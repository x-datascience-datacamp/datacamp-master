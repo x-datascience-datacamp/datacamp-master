{
 "cells": [
  {
   "cell_type": "code",
   "execution_count": null,
   "metadata": {},
   "outputs": [],
   "source": [
    "import os\n",
    "import numpy as np\n",
    "import pandas as pd\n",
    "import seaborn as sns\n",
    "\n",
    "from sklearn import linear_model\n",
    "from sklearn.pipeline import make_pipeline\n",
    "from sklearn.preprocessing import OneHotEncoder\n",
    "from sklearn.model_selection import cross_validate\n",
    "from sklearn.compose import make_column_transformer\n",
    "\n",
    "from matplotlib import pyplot as plt\n",
    "%matplotlib inline"
   ]
  },
  {
   "cell_type": "markdown",
   "metadata": {},
   "source": [
    "\n",
    "Interpreting linear models\n",
    "==========================\n",
    "\n",
    "Take home message: Linear models are not that easy to interpret when variables are\n",
    "correlated."
   ]
  },
  {
   "cell_type": "markdown",
   "metadata": {},
   "source": [
    "Data on wages\n",
    "--------------\n",
    "\n",
    "We first download and load some historical data on wages\n",
    "\n"
   ]
  },
  {
   "cell_type": "code",
   "execution_count": null,
   "metadata": {},
   "outputs": [],
   "source": [
    "# Download the data if it does not exists\n",
    "if not os.path.exists('wages.txt'):\n",
    "    from urllib.request import urlretrieve\n",
    "    # Download the file if it is not present\n",
    "    urlretrieve('http://lib.stat.cmu.edu/datasets/CPS_85_Wages',\n",
    "                'wages.txt')\n",
    "\n",
    "# Give names to the columns\n",
    "names = [\n",
    "    'EDUCATION: Number of years of education',\n",
    "    'SOUTH: 1=Person lives in South, 0=Person lives elsewhere',\n",
    "    'SEX: 1=Female, 0=Male',\n",
    "    'EXPERIENCE: Number of years of work experience',\n",
    "    'UNION: 1=Union member, 0=Not union member',\n",
    "    'WAGE: Wage (dollars per hour)',\n",
    "    'AGE: years',\n",
    "    'RACE: 1=Other, 2=Hispanic, 3=White',\n",
    "    'OCCUPATION: 1=Management, 2=Sales, 3=Clerical, 4=Service, 5=Professional, 6=Other',\n",
    "    'SECTOR: 0=Other, 1=Manufacturing, 2=Construction',\n",
    "    'MARR: 0=Unmarried,  1=Married',\n",
    "]\n",
    "\n",
    "short_names = [n.split(':')[0] for n in names]\n",
    "data = pd.read_csv(\n",
    "    'wages.txt', skiprows=27, skipfooter=6, sep=None,\n",
    "    header=None, engine='python'\n",
    ")\n",
    "data.columns = short_names\n",
    "\n",
    "# Log-transform the wages, as they typically increase with\n",
    "# multiplicative factors\n",
    "data['WAGE'] = np.log10(data['WAGE'])"
   ]
  },
  {
   "cell_type": "markdown",
   "metadata": {},
   "source": [
    "The challenge of correlated features\n",
    "--------------------------------------------\n",
    "\n",
    "Plot scatter matrices highlighting the links between different\n",
    "variables measured\n",
    "\n"
   ]
  },
  {
   "cell_type": "code",
   "execution_count": null,
   "metadata": {},
   "outputs": [],
   "source": [
    "# The simplest way to plot a pairplot\n",
    "sns.pairplot(\n",
    "    data,\n",
    "    vars=['WAGE', 'AGE', 'EDUCATION', 'EXPERIENCE', 'SEX']\n",
    ")"
   ]
  },
  {
   "cell_type": "markdown",
   "metadata": {},
   "source": [
    "A fancier pair plot\n",
    "\n"
   ]
  },
  {
   "cell_type": "code",
   "execution_count": null,
   "metadata": {},
   "outputs": [],
   "source": [
    "g = sns.PairGrid(\n",
    "    data,\n",
    "    vars=['WAGE', 'AGE', 'EDUCATION', 'EXPERIENCE', 'SEX'],\n",
    "    diag_sharey=False\n",
    ")\n",
    "g.map_upper(sns.kdeplot)\n",
    "g.map_lower(sns.scatterplot, s=5)\n",
    "g.map_diag(sns.kdeplot, lw=3)"
   ]
  },
  {
   "cell_type": "markdown",
   "metadata": {},
   "source": [
    "Note that age and experience are highly correlated\n",
    "\n",
    "A link between a single feature and the target is a **marginal** link.\n",
    "\n",
    "\n",
    "Univariate feature selection selects on marginal links.\n",
    "\n",
    "Linear model compute **conditional** links: removing the effects of other\n",
    "features on each feature. This is hard when features are correlated.\n",
    "\n"
   ]
  },
  {
   "cell_type": "code",
   "execution_count": null,
   "metadata": {},
   "outputs": [],
   "source": [
    "X = data.drop(columns=['WAGE'] + ['RACE', 'OCCUPATION', 'SECTOR'])\n",
    "y = data['WAGE']"
   ]
  },
  {
   "cell_type": "markdown",
   "metadata": {},
   "source": [
    "Coefficients of a linear model\n",
    "--------------------------------------------\n",
    "\n",
    "\n"
   ]
  },
  {
   "cell_type": "code",
   "execution_count": null,
   "metadata": {},
   "outputs": [],
   "source": [
    "ridge = linear_model.RidgeCV()\n",
    "ridge.fit(X, y)"
   ]
  },
  {
   "cell_type": "code",
   "execution_count": null,
   "metadata": {},
   "outputs": [],
   "source": [
    "# Visualize the coefs\n",
    "plt.figure(figsize=(6, 4))\n",
    "\n",
    "coefs = pd.Series(ridge.coef_, index=X.columns)\n",
    "coefs.plot(kind='barh')\n",
    "plt.axvline(0., color='k', linestyle='--', alpha=0.7)\n",
    "\n",
    "plt.title(\"Coefficients\")\n",
    "plt.tight_layout()"
   ]
  },
  {
   "cell_type": "markdown",
   "metadata": {},
   "source": [
    "**Scaling coefficients**: coefs cannot easily be compared if X is not\n",
    "standardized: they should be normalized to the variance of X: the\n",
    "greater the variance of a feature, the large the impact of the\n",
    "corresponding coefficent on the output.\n",
    "\n",
    "If the different features have differing, possibly arbitrary, scales,\n",
    "then scaling the coefficients by the feature scale often helps\n",
    "interpretation.\n",
    "\n"
   ]
  },
  {
   "cell_type": "code",
   "execution_count": null,
   "metadata": {},
   "outputs": [],
   "source": [
    "X_std = X.std()\n",
    "plt.figure(figsize=(6, 4))\n",
    "(X_std * coefs).plot(kind='barh')\n",
    "plt.axvline(0., color='k', linestyle='--', alpha=0.7)\n",
    "plt.title(\"Scaled coefficients\")\n",
    "plt.tight_layout()"
   ]
  },
  {
   "cell_type": "markdown",
   "metadata": {},
   "source": [
    "Now the age and experience can be better compared: and experience does\n",
    "appear as more important than age.\n",
    "\n"
   ]
  },
  {
   "cell_type": "markdown",
   "metadata": {},
   "source": [
    "<div class=\"alert alert-success\">\n",
    "\n",
    "<b>EXERCISE</b>:\n",
    "\n",
    " <ul>\n",
    "  <li>Redo the same analysis after removing education from the set of variables. How does it affect the coefficient associated to age? Do you see anything surprising? Can you interpret this?</li>\n",
    "</ul>\n",
    "</div>\n",
    "\n",
    "Solution: `solutions/01-no_edu.py`"
   ]
  },
  {
   "cell_type": "code",
   "execution_count": null,
   "metadata": {},
   "outputs": [],
   "source": [
    "# %load solutions/01-no_edu.py\n",
    "\n",
    "X_ = X.drop(columns=['EDUCATION'])\n",
    "\n",
    "ridge.fit(X_, y)\n",
    "\n",
    "# Visualize the coefs\n",
    "plt.figure(figsize=(6, 4))\n",
    "\n",
    "coefs = pd.Series(ridge.coef_, index=X_.columns)\n",
    "coefs.plot(kind='barh')\n",
    "plt.axvline(0., color='k', linestyle='--', alpha=0.7)\n",
    "\n",
    "plt.title(\"Coefficients\")\n",
    "plt.tight_layout()\n"
   ]
  },
  {
   "cell_type": "markdown",
   "metadata": {},
   "source": [
    "The effect of regularization\n",
    "--------------------------------------------\n",
    "\n",
    "Sparse models use l1 regularization to puts some variables to\n",
    "zero. This can often help interpretation\n",
    "\n"
   ]
  },
  {
   "cell_type": "code",
   "execution_count": null,
   "metadata": {},
   "outputs": [],
   "source": [
    "lasso = linear_model.LassoCV(max_iter=100_000, cv=5)\n",
    "lasso.fit(X, y)\n",
    "\n",
    "coefs = pd.Series(lasso.coef_, index=X.columns)\n",
    "(X_std * coefs).plot(kind='barh')\n",
    "\n",
    "plt.title(\"Sparse coefficients\")\n",
    "plt.tight_layout()"
   ]
  },
  {
   "cell_type": "markdown",
   "metadata": {},
   "source": [
    "When two variables are very correlated (such as age and experience), it\n",
    "will put arbitrarily one or the other to zero depending on their SNR.\n",
    "\n",
    "Here we can see that experience probably overshadowed age.\n",
    "\n"
   ]
  },
  {
   "cell_type": "markdown",
   "metadata": {},
   "source": [
    "Stability to gauge significance\n",
    "--------------------------------\n",
    "\n",
    "Stability of coefficients when perturbing the data helps giving an\n",
    "informal evaluation of the significance of the coefficients. Note that\n",
    "this is not significance testing in the sense of p-values, as a model\n",
    "that returns coefficients always at one indepently of the data will\n",
    "appear as very stable though it clearly does not control for false\n",
    "detections.\n",
    "\n",
    "We can do this in a cross-validation loop, using the argument\n",
    "\"return_estimator\" of `sklearn.model_selection.cross_validate`\n",
    "which has been added in version 0.20 of scikit-learn:"
   ]
  },
  {
   "cell_type": "markdown",
   "metadata": {},
   "source": [
    "### With the lasso estimator\n",
    "\n",
    "\n"
   ]
  },
  {
   "cell_type": "code",
   "execution_count": null,
   "metadata": {},
   "outputs": [],
   "source": [
    "cv_lasso = cross_validate(lasso, X, y, return_estimator=True, cv=10)"
   ]
  },
  {
   "cell_type": "code",
   "execution_count": null,
   "metadata": {},
   "outputs": [],
   "source": [
    "coefs_ = [estimator.coef_ for estimator in cv_lasso['estimator']]"
   ]
  },
  {
   "cell_type": "markdown",
   "metadata": {},
   "source": [
    "Plot the results with seaborn:\n",
    "\n"
   ]
  },
  {
   "cell_type": "code",
   "execution_count": null,
   "metadata": {},
   "outputs": [],
   "source": [
    "coefs_ = pd.DataFrame(coefs_, columns=X.columns) * X_std\n",
    "plt.figure(figsize=(6, 4))\n",
    "sns.boxplot(data=coefs_, orient='h')\n",
    "sns.stripplot(data=coefs_, orient='h', palette='dark:k')\n",
    "plt.axvline(x=0, color='.5')  # Add a vertical line at 0\n",
    "plt.title('Sparse coefficients')\n",
    "plt.tight_layout()"
   ]
  },
  {
   "cell_type": "markdown",
   "metadata": {},
   "source": [
    "### With the ridge estimator\n"
   ]
  },
  {
   "cell_type": "code",
   "execution_count": null,
   "metadata": {},
   "outputs": [],
   "source": [
    "cv_ridge = cross_validate(ridge, X, y, return_estimator=True, cv=10)\n",
    "coefs_ = [estimator.coef_ for estimator in cv_ridge['estimator']]\n",
    "\n",
    "coefs_ = pd.DataFrame(coefs_, columns=X.columns) * X_std\n",
    "plt.figure(figsize=(6, 4))\n",
    "sns.boxplot(data=coefs_, orient='h')\n",
    "sns.stripplot(data=coefs_, orient='h', palette='dark:k')\n",
    "plt.axvline(x=0, color='.5') # Add a vertical line at 0\n",
    "plt.title('Non-sparse coefficients (ridge)')\n",
    "plt.tight_layout()"
   ]
  },
  {
   "cell_type": "markdown",
   "metadata": {},
   "source": [
    "### Which is the truth?\n",
    "\n",
    "\n",
    "Note the difference between the lasso and the ridge estimator: we do\n",
    "not have enough data to perfectly estimate conditional relationships,\n",
    "hence the prior (ie the regularization) makes a difference, and its is\n",
    "hard to tell from the data which is the \"truth\".\n",
    "\n",
    "One reasonnable model-selection criterion is to believe most the model\n",
    "that predicts best. For this, we can inspect the prediction scores\n",
    "obtained via the cross-validation\n",
    "\n"
   ]
  },
  {
   "cell_type": "code",
   "execution_count": null,
   "metadata": {},
   "outputs": [],
   "source": [
    "scores = pd.DataFrame({\n",
    "    'lasso': cv_lasso['test_score'],\n",
    "    'ridge': cv_ridge['test_score']\n",
    "})\n",
    "plt.figure(figsize=(6, 2))\n",
    "sns.boxplot(data=scores, orient='h')\n",
    "sns.stripplot(data=scores, orient='h', palette='dark:k')\n",
    "plt.title(\"Model comparison\")"
   ]
  },
  {
   "cell_type": "markdown",
   "metadata": {},
   "source": [
    "Note also that the limitations of cross-validation explained previously\n",
    "still apply. Ideally, we should use a ShuffleSplit cross-validation\n",
    "object to sample many times and have a better estimate of the\n",
    "posterior, both for the coefficients and the test scores.\n",
    "\n",
    "#### Conclusion on factors of wages?\n",
    "\n",
    "\n",
    "As always, concluding is hard. That said, it seems that we should\n",
    "prefer the scaled ridge coefficients.\n",
    "\n",
    "Hence, the most important factors of wage are education and\n",
    "experience, followed by sex: at the same education and experience\n",
    "females earn less than males. Note that this last statement is a\n",
    "statement about the link between wage and sex, conditional on education\n",
    "and experience.\n"
   ]
  }
 ],
 "metadata": {
  "kernelspec": {
   "display_name": "Python 3 (ipykernel)",
   "language": "python",
   "name": "python3"
  },
  "language_info": {
   "codemirror_mode": {
    "name": "ipython",
    "version": 3
   },
   "file_extension": ".py",
   "mimetype": "text/x-python",
   "name": "python",
   "nbconvert_exporter": "python",
   "pygments_lexer": "ipython3",
   "version": "3.10.6"
  }
 },
 "nbformat": 4,
 "nbformat_minor": 1
}
